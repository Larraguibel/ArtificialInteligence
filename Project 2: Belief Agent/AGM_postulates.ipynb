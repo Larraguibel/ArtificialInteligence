{
 "cells": [
  {
   "cell_type": "code",
   "execution_count": 96,
   "metadata": {},
   "outputs": [],
   "source": [
    "from sympy.logic.boolalg import And, Or, Not, Implies, Equivalent\n",
    "from sympy import symbols, bool_map\n",
    "from sympy.logic.inference import satisfiable\n",
    "from itertools import combinations\n",
    "from belief_agent import BeliefBase\n",
    "from math import factorial"
   ]
  },
  {
   "cell_type": "markdown",
   "metadata": {},
   "source": [
    "**KB: Robert does well in the exam if and only if he is prepared or lucky.**\n",
    "Robert does not do well the exam.\n",
    "\n",
    "**Question: KB |= φ?**  **(KB entails phi)**\n",
    "\n",
    "1. (-r $\\vee$ p $\\vee$ s) $\\wedge$ (p $\\wedge$ r) $\\wedge$ (s $\\wedge$ r) $\\wedge$ $\\neg$ r, formalisation of KB as CNF.\n",
    "\n",
    "2.(-r $\\vee$ p $\\vee$ s) $\\wedge$ (p $\\wedge$ r) $\\wedge$ (s $\\wedge$ r) $\\wedge$ r $\\wedge$ p, CNF for contradiction.\n",
    "\n",
    "3. clauses:= (-r $\\vee$ p $\\vee$ s), (p $\\wedge$ r), (s $\\wedge$ r), r, p.\n",
    "\n",
    "4. clauses:=clauses U {r} from resolving (¬p $\\vee$ r) with p.\n",
    "\n",
    "5. clauses:=clauses U {1} from resolving r with $\\neg$ r.\n",
    "\n",
    "6. Result: empty clause, so KB |= φ."
   ]
  },
  {
   "cell_type": "code",
   "execution_count": 116,
   "metadata": {},
   "outputs": [
    {
     "name": "stdout",
     "output_type": "stream",
     "text": [
      "Belief Base: {s, p, r}\n"
     ]
    }
   ],
   "source": [
    "belief_base = BeliefBase('r p s')\n",
    "symb = belief_base.symbols\n",
    "r, p, s = symb\n",
    "\n",
    "belief_base.expand(p)\n",
    "belief_base.expand(r)\n",
    "belief_base.expand(s)\n",
    "print(\"Belief Base:\", belief_base)"
   ]
  },
  {
   "cell_type": "code",
   "execution_count": 117,
   "metadata": {},
   "outputs": [
    {
     "data": {
      "text/plain": [
       "[(True, True, True),\n",
       " (True, True, False),\n",
       " (True, False, True),\n",
       " (True, False, False),\n",
       " (False, True, True),\n",
       " (False, True, False),\n",
       " (False, False, True),\n",
       " (False, False, False)]"
      ]
     },
     "execution_count": 117,
     "metadata": {},
     "output_type": "execute_result"
    }
   ],
   "source": [
    "belief_base.possible_symbol_values"
   ]
  },
  {
   "cell_type": "code",
   "execution_count": 47,
   "metadata": {},
   "outputs": [
    {
     "data": {
      "text/plain": [
       "{r: True, p: True}"
      ]
     },
     "execution_count": 47,
     "metadata": {},
     "output_type": "execute_result"
    }
   ],
   "source": [
    "dictionary = {symb[i]: combinations[0][i] for i in range(len(symb))}\n",
    "dictionary"
   ]
  },
  {
   "cell_type": "code",
   "execution_count": 52,
   "metadata": {},
   "outputs": [
    {
     "data": {
      "text/plain": [
       "{p: False, r: True}"
      ]
     },
     "execution_count": 52,
     "metadata": {},
     "output_type": "execute_result"
    }
   ],
   "source": [
    "satisfiable(belief_base.to_CNF())"
   ]
  },
  {
   "cell_type": "code",
   "execution_count": 65,
   "metadata": {},
   "outputs": [
    {
     "name": "stdout",
     "output_type": "stream",
     "text": [
      "{r: False, p: True}\n",
      "(False, True)\n",
      "priority: 2\n"
     ]
    }
   ],
   "source": [
    "sat = satisfiable(And(Or(p, r), Not(r)))\n",
    "print(sat)\n",
    "print(tuple([sat[symb[i]] for i in range(len(symb))]))\n",
    "key = tuple([sat[symb[i]] for i in range(len(symb))])\n",
    "print(\"priority:\", belief_base.priorities[key])"
   ]
  },
  {
   "cell_type": "code",
   "execution_count": 58,
   "metadata": {},
   "outputs": [
    {
     "data": {
      "text/plain": [
       "{(True, True): 0, (True, False): 1, (False, True): 2, (False, False): 3}"
      ]
     },
     "execution_count": 58,
     "metadata": {},
     "output_type": "execute_result"
    }
   ],
   "source": [
    "belief_base.priorities"
   ]
  },
  {
   "cell_type": "code",
   "execution_count": 85,
   "metadata": {},
   "outputs": [],
   "source": [
    "a = set((1,2))"
   ]
  },
  {
   "cell_type": "code",
   "execution_count": 86,
   "metadata": {},
   "outputs": [],
   "source": [
    "b = a.copy()"
   ]
  },
  {
   "cell_type": "code",
   "execution_count": 91,
   "metadata": {},
   "outputs": [
    {
     "name": "stdout",
     "output_type": "stream",
     "text": [
      "2\n"
     ]
    }
   ],
   "source": [
    "print(b.pop())"
   ]
  },
  {
   "cell_type": "code",
   "execution_count": 94,
   "metadata": {},
   "outputs": [
    {
     "name": "stdout",
     "output_type": "stream",
     "text": [
      "40\n"
     ]
    }
   ],
   "source": [
    "def total_node_number(n):\n",
    "    result = 0\n",
    "    for i in range(2, n + 1):\n",
    "        product = 1\n",
    "        for k in range(i, n + 1):\n",
    "            product *= k\n",
    "        result += product\n",
    "    return result\n",
    "\n",
    "print(total_node_number(4))"
   ]
  },
  {
   "cell_type": "code",
   "execution_count": 118,
   "metadata": {},
   "outputs": [],
   "source": [
    "def neighbours(beliefs: set):\n",
    "    if len(beliefs) == 1:\n",
    "        return None\n",
    "\n",
    "    elif len(beliefs) > 1:\n",
    "        neigh = []\n",
    "        for clause in beliefs:\n",
    "            new_set = beliefs.copy()\n",
    "            new_set.remove(clause)\n",
    "            neigh.append(new_set)\n",
    "        return neigh\n",
    "\n",
    "def create_graph(belief_set):\n",
    "    graph = dict()\n",
    "    total_nodes_in_max_depth = factorial(len(belief_set))\n",
    "    counter = 0\n",
    "    current_set = belief_set\n",
    "    while counter <= total_nodes_in_max_depth:\n",
    "        neigh = neighbours(current_set)\n",
    "        if neigh is None:\n",
    "            counter += 1\n",
    "    \n",
    "        else:\n",
    "            graph[tuple(current_set)] = neigh\n",
    "            counter += 1\n",
    "            current_set = neigh[0]  # Here you might want to choose the first neighbor to continue the exploration\n",
    "    print(f\"Out of loop after {counter} iterations\")\n",
    "    return graph\n"
   ]
  },
  {
   "cell_type": "code",
   "execution_count": 119,
   "metadata": {},
   "outputs": [
    {
     "name": "stdout",
     "output_type": "stream",
     "text": [
      "Out of loop after 7 iterations\n"
     ]
    },
    {
     "data": {
      "text/plain": [
       "{(s, p, r): [{p, r}, {r, s}, {p, s}], (p, r): [{r}, {p}]}"
      ]
     },
     "execution_count": 119,
     "metadata": {},
     "output_type": "execute_result"
    }
   ],
   "source": [
    "from math import factorial\n",
    "\n",
    "belief_set = belief_base.beliefs\n",
    "graph = create_graph(belief_set)\n",
    "graph\n"
   ]
  },
  {
   "cell_type": "code",
   "execution_count": null,
   "metadata": {},
   "outputs": [],
   "source": []
  }
 ],
 "metadata": {
  "kernelspec": {
   "display_name": "Python 3",
   "language": "python",
   "name": "python3"
  },
  "language_info": {
   "codemirror_mode": {
    "name": "ipython",
    "version": 3
   },
   "file_extension": ".py",
   "mimetype": "text/x-python",
   "name": "python",
   "nbconvert_exporter": "python",
   "pygments_lexer": "ipython3",
   "version": "3.9.6"
  }
 },
 "nbformat": 4,
 "nbformat_minor": 2
}
