{
 "cells": [
  {
   "cell_type": "code",
   "execution_count": 6,
   "metadata": {},
   "outputs": [],
   "source": [
    "from sympy.logic.boolalg import And, Or, Not, Implies, Equivalent\n",
    "from sympy import symbols\n",
    "from belief_agent import BeliefBase"
   ]
  },
  {
   "cell_type": "markdown",
   "metadata": {},
   "source": [
    "**KB: Robert does well in the exam if and only if he is prepared or lucky.**\n",
    "Robert does not do well the exam.\n",
    "\n",
    "**Question: KB |= φ?**  **(KB entails phi)**\n",
    "\n",
    "1. (-r $\\vee$ p $\\vee$ s) $\\wedge$ (p $\\wedge$ r) $\\wedge$ (s $\\wedge$ r) $\\wedge$ $\\neg$ r, formalisation of KB as CNF.\n",
    "\n",
    "2.(-r $\\vee$ p $\\vee$ s) $\\wedge$ (p $\\wedge$ r) $\\wedge$ (s $\\wedge$ r) $\\wedge$ r $\\wedge$ p, CNF for contradiction.\n",
    "\n",
    "3. clauses:= (-r $\\vee$ p $\\vee$ s), (p $\\wedge$ r), (s $\\wedge$ r), r, p.\n",
    "\n",
    "4. clauses:=clauses U {r} from resolving (¬p $\\vee$ r) with p.\n",
    "\n",
    "5. clauses:=clauses U {1} from resolving r with $\\neg$ r.\n",
    "\n",
    "6. Result: empty clause, so KB |= φ."
   ]
  },
  {
   "cell_type": "code",
   "execution_count": 11,
   "metadata": {},
   "outputs": [
    {
     "name": "stdout",
     "output_type": "stream",
     "text": [
      "Belief Base: {p & r, ~(p & r), ~(Equivalent(p, r))}\n"
     ]
    }
   ],
   "source": [
    "belief_base = BeliefBase()\n",
    "r, p, s = symbols('r p s') # Robert does well iff he is prepared or lucky\n",
    "belief_base.expand(Not(And(p,r)))\n",
    "belief_base.expand(And(p,r))\n",
    "belief_base.expand(Not(Equivalent(p,r)))\n",
    "print(\"Belief Base:\", belief_base)\n"
   ]
  },
  {
   "cell_type": "code",
   "execution_count": 12,
   "metadata": {},
   "outputs": [],
   "source": [
    "a = belief_base.to_CNF()"
   ]
  },
  {
   "cell_type": "code",
   "execution_count": 13,
   "metadata": {},
   "outputs": [
    {
     "data": {
      "text/plain": [
       "False"
      ]
     },
     "execution_count": 13,
     "metadata": {},
     "output_type": "execute_result"
    }
   ],
   "source": [
    "And(a.args[0], a.args[1]) == Not(a.args[2])"
   ]
  },
  {
   "cell_type": "code",
   "execution_count": 14,
   "metadata": {},
   "outputs": [
    {
     "name": "stdout",
     "output_type": "stream",
     "text": [
      "p & r & (~p | ~r) & ((p & ~r) | (r & ~p))\n"
     ]
    },
    {
     "data": {
      "text/latex": [
       "$\\displaystyle p \\wedge r \\wedge \\left(\\left(p \\wedge \\neg r\\right) \\vee \\left(r \\wedge \\neg p\\right)\\right) \\wedge \\left(\\neg p \\vee \\neg r\\right)$"
      ],
      "text/plain": [
       "p & r & (~p | ~r) & ((p & ~r) | (r & ~p))"
      ]
     },
     "execution_count": 14,
     "metadata": {},
     "output_type": "execute_result"
    }
   ],
   "source": [
    "print(belief_base._convert_to_cnf(a))\n",
    "a"
   ]
  },
  {
   "cell_type": "code",
   "execution_count": 6,
   "metadata": {},
   "outputs": [
    {
     "name": "stdout",
     "output_type": "stream",
     "text": [
      "En Not\n",
      "En And\n",
      "En Not\n",
      "En And\n",
      "En And\n"
     ]
    }
   ],
   "source": [
    "from itertools import combinations\n",
    "formula = Not(And(p,r))\n",
    "cnf_formula = belief_base._convert_to_cnf(formula)\n",
    "belief_base_cnf = belief_base.to_CNF()\n",
    "new_set = And(belief_base_cnf, cnf_formula)\n",
    "subsets = [c for r in range(2, len(new_set.args) + 1) for c in combinations(new_set.args, r)]"
   ]
  },
  {
   "cell_type": "code",
   "execution_count": 34,
   "metadata": {},
   "outputs": [
    {
     "data": {
      "text/plain": [
       "[(p, r),\n",
       " (p, ~(p & r)),\n",
       " (p, r | ~p),\n",
       " (r, ~(p & r)),\n",
       " (r, r | ~p),\n",
       " (~(p & r), r | ~p),\n",
       " (p, r, ~(p & r)),\n",
       " (p, r, r | ~p),\n",
       " (p, ~(p & r), r | ~p),\n",
       " (r, ~(p & r), r | ~p),\n",
       " (p, r, ~(p & r), r | ~p)]"
      ]
     },
     "execution_count": 34,
     "metadata": {},
     "output_type": "execute_result"
    }
   ],
   "source": [
    "subsets"
   ]
  },
  {
   "cell_type": "code",
   "execution_count": 20,
   "metadata": {},
   "outputs": [
    {
     "data": {
      "text/latex": [
       "$\\displaystyle p \\wedge r$"
      ],
      "text/plain": [
       "p & r"
      ]
     },
     "execution_count": 20,
     "metadata": {},
     "output_type": "execute_result"
    }
   ],
   "source": [
    "And(*subsets[0])"
   ]
  },
  {
   "cell_type": "code",
   "execution_count": 176,
   "metadata": {},
   "outputs": [
    {
     "name": "stdout",
     "output_type": "stream",
     "text": [
      "~(p & r)\n",
      "False\n",
      "p & r\n"
     ]
    }
   ],
   "source": [
    "b = a.args[1]\n",
    "print(b)\n",
    "print(b.is_Atom)\n",
    "print(b.args[0])"
   ]
  },
  {
   "cell_type": "code",
   "execution_count": 5,
   "metadata": {},
   "outputs": [
    {
     "name": "stdout",
     "output_type": "stream",
     "text": [
      "False\n"
     ]
    },
    {
     "data": {
      "text/latex": [
       "$\\displaystyle r$"
      ],
      "text/plain": [
       "r"
      ]
     },
     "execution_count": 5,
     "metadata": {},
     "output_type": "execute_result"
    }
   ],
   "source": [
    "# Look that we can get contradictions! we can use this for satisfability\n",
    "print(And(p, False)) \n",
    "Or(And(p, False), r)"
   ]
  },
  {
   "cell_type": "code",
   "execution_count": 186,
   "metadata": {},
   "outputs": [
    {
     "data": {
      "text/latex": [
       "$\\displaystyle p$"
      ],
      "text/plain": [
       "p"
      ]
     },
     "execution_count": 186,
     "metadata": {},
     "output_type": "execute_result"
    }
   ],
   "source": []
  },
  {
   "cell_type": "code",
   "execution_count": null,
   "metadata": {},
   "outputs": [],
   "source": []
  }
 ],
 "metadata": {
  "kernelspec": {
   "display_name": "Python 3",
   "language": "python",
   "name": "python3"
  },
  "language_info": {
   "codemirror_mode": {
    "name": "ipython",
    "version": 3
   },
   "file_extension": ".py",
   "mimetype": "text/x-python",
   "name": "python",
   "nbconvert_exporter": "python",
   "pygments_lexer": "ipython3",
   "version": "3.9.6"
  }
 },
 "nbformat": 4,
 "nbformat_minor": 2
}
