{
 "cells": [
  {
   "cell_type": "markdown",
   "metadata": {},
   "source": [
    "# I was just playing :)"
   ]
  },
  {
   "cell_type": "code",
   "execution_count": 45,
   "metadata": {},
   "outputs": [],
   "source": [
    "class BeliefAgent(object):\n",
    "    def __init__(self, B: list):\n",
    "        self.beliefs = B\n",
    "    \n",
    "    def __add__(self, phi):\n",
    "        self.beliefs.append(phi)\n",
    "        \n",
    "    def __truediv__(self, phi):\n",
    "        self.beliefs.remove(phi)\n",
    "    \n",
    "    def __mul__(self, phi):\n",
    "        self.beliefs.remove(phi)\n",
    "        self.beliefs.append(phi)"
   ]
  },
  {
   "cell_type": "code",
   "execution_count": 46,
   "metadata": {},
   "outputs": [],
   "source": [
    "B = [1, 2, 4, 5]\n",
    "belief_agent = BeliefAgent(B)\n",
    "belief_agent + 7"
   ]
  },
  {
   "cell_type": "code",
   "execution_count": 47,
   "metadata": {},
   "outputs": [
    {
     "name": "stdout",
     "output_type": "stream",
     "text": [
      "[1, 2, 4, 5, 7]\n"
     ]
    }
   ],
   "source": [
    "print(belief_agent.beliefs)"
   ]
  },
  {
   "cell_type": "code",
   "execution_count": 48,
   "metadata": {},
   "outputs": [
    {
     "name": "stdout",
     "output_type": "stream",
     "text": [
      "[1, 2, 5, 7, 4]\n"
     ]
    }
   ],
   "source": [
    "belief_agent * 4\n",
    "print(belief_agent.beliefs)"
   ]
  },
  {
   "cell_type": "code",
   "execution_count": null,
   "metadata": {},
   "outputs": [],
   "source": []
  }
 ],
 "metadata": {
  "kernelspec": {
   "display_name": "Python 3",
   "language": "python",
   "name": "python3"
  },
  "language_info": {
   "codemirror_mode": {
    "name": "ipython",
    "version": 3
   },
   "file_extension": ".py",
   "mimetype": "text/x-python",
   "name": "python",
   "nbconvert_exporter": "python",
   "pygments_lexer": "ipython3",
   "version": "3.9.6"
  }
 },
 "nbformat": 4,
 "nbformat_minor": 2
}
