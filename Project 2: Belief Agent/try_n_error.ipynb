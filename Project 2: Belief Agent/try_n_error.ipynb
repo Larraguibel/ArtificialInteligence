{
 "cells": [
  {
   "cell_type": "code",
   "execution_count": 1,
   "metadata": {},
   "outputs": [],
   "source": [
    "from sympy.logic.boolalg import And, Or, Not, Implies, Equivalent\n",
    "import numpy as np\n",
    "from sympy import symbols, bool_map\n",
    "from sympy.logic.inference import satisfiable\n",
    "from itertools import combinations\n",
    "from belief_agent import BeliefBase\n",
    "from utils import generate_all_subsets"
   ]
  },
  {
   "cell_type": "markdown",
   "metadata": {},
   "source": [
    "**KB: Robert does well in the exam if and only if he is prepared or lucky.**\n",
    "Robert does not do well the exam.\n",
    "\n",
    "**Question: KB |= φ?**  **(KB entails phi)**\n",
    "\n",
    "1. (-r $\\vee$ p $\\vee$ s) $\\wedge$ (p $\\wedge$ r) $\\wedge$ (s $\\wedge$ r) $\\wedge$ $\\neg$ r, formalisation of KB as CNF.\n",
    "\n",
    "2.(-r $\\vee$ p $\\vee$ s) $\\wedge$ (p $\\wedge$ r) $\\wedge$ (s $\\wedge$ r) $\\wedge$ r $\\wedge$ p, CNF for contradiction.\n",
    "\n",
    "3. clauses:= (-r $\\vee$ p $\\vee$ s), (p $\\wedge$ r), (s $\\wedge$ r), r, p.\n",
    "\n",
    "4. clauses:=clauses U {r} from resolving (¬p $\\vee$ r) with p.\n",
    "\n",
    "5. clauses:=clauses U {1} from resolving r with $\\neg$ r.\n",
    "\n",
    "6. Result: empty clause, so KB |= φ."
   ]
  },
  {
   "cell_type": "code",
   "execution_count": 2,
   "metadata": {},
   "outputs": [
    {
     "name": "stdout",
     "output_type": "stream",
     "text": [
      "Belief Base: <belief_agent.BeliefBase object at 0x119175910>\n"
     ]
    }
   ],
   "source": [
    "belief_base = BeliefBase('q p')\n",
    "symb = belief_base.symbols\n",
    "q, p = symb\n",
    "\n",
    "belief_base.expand(p, 1)\n",
    "belief_base.expand(q, 2)\n",
    "belief_base.expand(Implies(p, q), 3)\n",
    "print(\"Belief Base:\", belief_base)"
   ]
  },
  {
   "cell_type": "code",
   "execution_count": 3,
   "metadata": {},
   "outputs": [],
   "source": [
    "def generate_subsets(belief_base, n):\n",
    "    return list(combinations(belief_base, n))\n",
    "\n",
    "def generate_all_subsets(belief_base):\n",
    "    subsets = []\n",
    "    for n in range(1, len(belief_base)):\n",
    "        subsets.extend(generate_subsets(belief_base, n))\n",
    "    return subsets"
   ]
  },
  {
   "cell_type": "code",
   "execution_count": 23,
   "metadata": {},
   "outputs": [
    {
     "name": "stdout",
     "output_type": "stream",
     "text": [
      "{p, q, q | ~p}\n",
      "\n",
      "Final belief base:\n",
      "{q | ~p}\n"
     ]
    }
   ],
   "source": [
    "from sympy.logic.boolalg import And, Or, Not, Implies, Equivalent, to_cnf\n",
    "from sympy import symbols\n",
    "from sympy.logic.inference import satisfiable\n",
    "from utils import generate_all_subsets\n",
    "\n",
    "class BeliefBase:\n",
    "    def __init__(self, atomic_symbols: str):\n",
    "        self.beliefs = set()\n",
    "        self.beliefs_priorities = set()\n",
    "        self.symbols = symbols(atomic_symbols)\n",
    "        self.priorities = {}\n",
    "\n",
    "    def expand(self, belief, priority):\n",
    "        cnf_belief = to_cnf(belief)\n",
    "        self.beliefs.add((cnf_belief))\n",
    "        self.beliefs_priorities.add((cnf_belief, priority))\n",
    "        self.priorities[cnf_belief] = priority\n",
    "\n",
    "    def remove(self, belief, belief_set=None):\n",
    "        cnf_belief = to_cnf(belief)\n",
    "        if belief_set is None:\n",
    "            if cnf_belief in self.beliefs:\n",
    "                self.beliefs.remove(cnf_belief)\n",
    "        else:\n",
    "            if cnf_belief in belief_set:\n",
    "                belief_set.remove(cnf_belief)\n",
    "\n",
    "    def contract(self, extract_belief):\n",
    "        sorted_beliefs = sorted(self.beliefs_priorities, key=lambda x: (-x[1]))\n",
    "        \n",
    "        # Might be and IF instead of while\n",
    "        while self.check_entailment(extract_belief):\n",
    "            entailed_formulas = []\n",
    "            all_subsets = generate_all_subsets(self.beliefs)\n",
    "            for subset in all_subsets:\n",
    "                if self.check_entailment(formula=extract_belief, belief_base=set(subset)):\n",
    "                    entailed_formulas.append(subset)\n",
    "            \n",
    "            lowest_priority = - np.inf\n",
    "            formula_to_remove = None\n",
    "            for sub_belief_set in entailed_formulas:\n",
    "                for formula in sub_belief_set:\n",
    "                    if self.priorities[formula] > lowest_priority:\n",
    "                        lowest_priority = self.priorities[formula]\n",
    "                        formula_to_remove = formula\n",
    "            self.remove(formula_to_remove)\n",
    "                        \n",
    "\n",
    "    def revise(self, belief):\n",
    "        # Levi's identity\n",
    "        self.contract(Not(belief))\n",
    "        self.expand(belief)\n",
    "\n",
    "    def check_entailment(self, formula, belief_base=None):\n",
    "        if belief_base is None:\n",
    "            cnf_formula = to_cnf(formula)\n",
    "            belief_base_cnf = to_cnf(self.beliefs)\n",
    "            new_set = And(*belief_base_cnf, Not(cnf_formula))\n",
    "            return not satisfiable(new_set)\n",
    "        else:\n",
    "            cnf_formula = to_cnf(formula)\n",
    "            belief_base_cnf = to_cnf(belief_base)\n",
    "            new_set = And(*belief_base_cnf, Not(cnf_formula))\n",
    "            return not satisfiable(new_set)         \n",
    "        \n",
    "# Test\n",
    "if __name__ == \"__main__\":\n",
    "    belief_base = BeliefBase('p q')  \n",
    "    p, q = belief_base.symbols\n",
    "    # Expand belief base\n",
    "    belief_base.expand(p, 3)\n",
    "    belief_base.expand(q, 2)\n",
    "    belief_base.expand(Implies(p, q), 1)\n",
    "    print(belief_base.beliefs)\n",
    "    \n",
    "    belief_base.contract(q)\n",
    "    print(\"\\nFinal belief base:\")\n",
    "    print(belief_base.beliefs) "
   ]
  },
  {
   "cell_type": "code",
   "execution_count": 26,
   "metadata": {},
   "outputs": [
    {
     "name": "stdout",
     "output_type": "stream",
     "text": [
      "\n",
      "Final belief base:\n",
      "{q | ~p}\n"
     ]
    }
   ],
   "source": [
    "belief_base = BeliefBase('p q')  \n",
    "p, q = belief_base.symbols\n",
    "belief_base.expand(p, 3)\n",
    "belief_base.expand(q, 2)\n",
    "belief_base.expand(Implies(p, q), 1)\n",
    "\n",
    "belief_base.contract(q)\n",
    "print(\"\\nFinal belief base:\")\n",
    "print(belief_base.beliefs) "
   ]
  },
  {
   "cell_type": "code",
   "execution_count": 14,
   "metadata": {},
   "outputs": [
    {
     "data": {
      "text/plain": [
       "set"
      ]
     },
     "execution_count": 14,
     "metadata": {},
     "output_type": "execute_result"
    }
   ],
   "source": [
    "type(belief_base.beliefs)"
   ]
  },
  {
   "cell_type": "code",
   "execution_count": 15,
   "metadata": {},
   "outputs": [
    {
     "ename": "TypeError",
     "evalue": "expecting bool or Boolean, not `{p, q, p | q, q | ~p}`.",
     "output_type": "error",
     "traceback": [
      "\u001b[0;31m---------------------------------------------------------------------------\u001b[0m",
      "\u001b[0;31mTypeError\u001b[0m                                 Traceback (most recent call last)",
      "Cell \u001b[0;32mIn[15], line 1\u001b[0m\n\u001b[0;32m----> 1\u001b[0m \u001b[43mbelief_base\u001b[49m\u001b[38;5;241;43m.\u001b[39;49m\u001b[43mcheck_entailment\u001b[49m\u001b[43m(\u001b[49m\u001b[43mformula\u001b[49m\u001b[38;5;241;43m=\u001b[39;49m\u001b[43mAnd\u001b[49m\u001b[43m(\u001b[49m\u001b[43mp\u001b[49m\u001b[43m,\u001b[49m\u001b[43mq\u001b[49m\u001b[43m)\u001b[49m\u001b[43m,\u001b[49m\u001b[43m \u001b[49m\u001b[43mbelief_base\u001b[49m\u001b[38;5;241;43m=\u001b[39;49m\u001b[43mbelief_base\u001b[49m\u001b[38;5;241;43m.\u001b[39;49m\u001b[43mbeliefs\u001b[49m\u001b[43m)\u001b[49m\n",
      "Cell \u001b[0;32mIn[11], line 65\u001b[0m, in \u001b[0;36mBeliefBase.check_entailment\u001b[0;34m(self, formula, belief_base)\u001b[0m\n\u001b[1;32m     63\u001b[0m cnf_formula \u001b[38;5;241m=\u001b[39m to_cnf(formula)\n\u001b[1;32m     64\u001b[0m belief_base_cnf \u001b[38;5;241m=\u001b[39m to_cnf(belief_base)\n\u001b[0;32m---> 65\u001b[0m new_set \u001b[38;5;241m=\u001b[39m \u001b[43mAnd\u001b[49m\u001b[43m(\u001b[49m\u001b[43mbelief_base_cnf\u001b[49m\u001b[43m,\u001b[49m\u001b[43m \u001b[49m\u001b[43mNot\u001b[49m\u001b[43m(\u001b[49m\u001b[43mcnf_formula\u001b[49m\u001b[43m)\u001b[49m\u001b[43m)\u001b[49m\n\u001b[1;32m     66\u001b[0m \u001b[38;5;28;01mreturn\u001b[39;00m \u001b[38;5;129;01mnot\u001b[39;00m satisfiable(new_set)\n",
      "File \u001b[0;32m~/Library/Python/3.9/lib/python/site-packages/sympy/core/operations.py:513\u001b[0m, in \u001b[0;36mLatticeOp.__new__\u001b[0;34m(cls, *args, **options)\u001b[0m\n\u001b[1;32m    506\u001b[0m args \u001b[38;5;241m=\u001b[39m (_sympify_(arg) \u001b[38;5;28;01mfor\u001b[39;00m arg \u001b[38;5;129;01min\u001b[39;00m args)\n\u001b[1;32m    508\u001b[0m \u001b[38;5;28;01mtry\u001b[39;00m:\n\u001b[1;32m    509\u001b[0m     \u001b[38;5;66;03m# /!\\ args is a generator and _new_args_filter\u001b[39;00m\n\u001b[1;32m    510\u001b[0m     \u001b[38;5;66;03m# must be careful to handle as such; this\u001b[39;00m\n\u001b[1;32m    511\u001b[0m     \u001b[38;5;66;03m# is done so short-circuiting can be done\u001b[39;00m\n\u001b[1;32m    512\u001b[0m     \u001b[38;5;66;03m# without having to sympify all values\u001b[39;00m\n\u001b[0;32m--> 513\u001b[0m     _args \u001b[38;5;241m=\u001b[39m \u001b[38;5;28mfrozenset\u001b[39m(\u001b[38;5;28;43mcls\u001b[39;49m\u001b[38;5;241;43m.\u001b[39;49m\u001b[43m_new_args_filter\u001b[49m\u001b[43m(\u001b[49m\u001b[43margs\u001b[49m\u001b[43m)\u001b[49m)\n\u001b[1;32m    514\u001b[0m \u001b[38;5;28;01mexcept\u001b[39;00m ShortCircuit:\n\u001b[1;32m    515\u001b[0m     \u001b[38;5;28;01mreturn\u001b[39;00m sympify(\u001b[38;5;28mcls\u001b[39m\u001b[38;5;241m.\u001b[39mzero)\n",
      "File \u001b[0;32m~/Library/Python/3.9/lib/python/site-packages/sympy/logic/boolalg.py:606\u001b[0m, in \u001b[0;36mAnd._new_args_filter\u001b[0;34m(cls, args)\u001b[0m\n\u001b[1;32m    604\u001b[0m \u001b[38;5;129m@classmethod\u001b[39m\n\u001b[1;32m    605\u001b[0m \u001b[38;5;28;01mdef\u001b[39;00m \u001b[38;5;21m_new_args_filter\u001b[39m(\u001b[38;5;28mcls\u001b[39m, args):\n\u001b[0;32m--> 606\u001b[0m     args \u001b[38;5;241m=\u001b[39m \u001b[43mBooleanFunction\u001b[49m\u001b[38;5;241;43m.\u001b[39;49m\u001b[43mbinary_check_and_simplify\u001b[49m\u001b[43m(\u001b[49m\u001b[38;5;241;43m*\u001b[39;49m\u001b[43margs\u001b[49m\u001b[43m)\u001b[49m\n\u001b[1;32m    607\u001b[0m     args \u001b[38;5;241m=\u001b[39m LatticeOp\u001b[38;5;241m.\u001b[39m_new_args_filter(args, And)\n\u001b[1;32m    608\u001b[0m     newargs \u001b[38;5;241m=\u001b[39m []\n",
      "File \u001b[0;32m~/Library/Python/3.9/lib/python/site-packages/sympy/logic/boolalg.py:494\u001b[0m, in \u001b[0;36mBooleanFunction.binary_check_and_simplify\u001b[0;34m(self, *args)\u001b[0m\n\u001b[1;32m    491\u001b[0m \u001b[38;5;129m@classmethod\u001b[39m\n\u001b[1;32m    492\u001b[0m \u001b[38;5;28;01mdef\u001b[39;00m \u001b[38;5;21mbinary_check_and_simplify\u001b[39m(\u001b[38;5;28mself\u001b[39m, \u001b[38;5;241m*\u001b[39margs):\n\u001b[1;32m    493\u001b[0m     \u001b[38;5;28;01mfrom\u001b[39;00m \u001b[38;5;21;01msympy\u001b[39;00m\u001b[38;5;21;01m.\u001b[39;00m\u001b[38;5;21;01mcore\u001b[39;00m\u001b[38;5;21;01m.\u001b[39;00m\u001b[38;5;21;01mrelational\u001b[39;00m \u001b[38;5;28;01mimport\u001b[39;00m Relational, Eq, Ne\n\u001b[0;32m--> 494\u001b[0m     args \u001b[38;5;241m=\u001b[39m [as_Boolean(i) \u001b[38;5;28;01mfor\u001b[39;00m i \u001b[38;5;129;01min\u001b[39;00m args]\n\u001b[1;32m    495\u001b[0m     bin_syms \u001b[38;5;241m=\u001b[39m \u001b[38;5;28mset\u001b[39m()\u001b[38;5;241m.\u001b[39munion(\u001b[38;5;241m*\u001b[39m[i\u001b[38;5;241m.\u001b[39mbinary_symbols \u001b[38;5;28;01mfor\u001b[39;00m i \u001b[38;5;129;01min\u001b[39;00m args])\n\u001b[1;32m    496\u001b[0m     rel \u001b[38;5;241m=\u001b[39m \u001b[38;5;28mset\u001b[39m()\u001b[38;5;241m.\u001b[39munion(\u001b[38;5;241m*\u001b[39m[i\u001b[38;5;241m.\u001b[39matoms(Relational) \u001b[38;5;28;01mfor\u001b[39;00m i \u001b[38;5;129;01min\u001b[39;00m args])\n",
      "File \u001b[0;32m~/Library/Python/3.9/lib/python/site-packages/sympy/logic/boolalg.py:494\u001b[0m, in \u001b[0;36m<listcomp>\u001b[0;34m(.0)\u001b[0m\n\u001b[1;32m    491\u001b[0m \u001b[38;5;129m@classmethod\u001b[39m\n\u001b[1;32m    492\u001b[0m \u001b[38;5;28;01mdef\u001b[39;00m \u001b[38;5;21mbinary_check_and_simplify\u001b[39m(\u001b[38;5;28mself\u001b[39m, \u001b[38;5;241m*\u001b[39margs):\n\u001b[1;32m    493\u001b[0m     \u001b[38;5;28;01mfrom\u001b[39;00m \u001b[38;5;21;01msympy\u001b[39;00m\u001b[38;5;21;01m.\u001b[39;00m\u001b[38;5;21;01mcore\u001b[39;00m\u001b[38;5;21;01m.\u001b[39;00m\u001b[38;5;21;01mrelational\u001b[39;00m \u001b[38;5;28;01mimport\u001b[39;00m Relational, Eq, Ne\n\u001b[0;32m--> 494\u001b[0m     args \u001b[38;5;241m=\u001b[39m [\u001b[43mas_Boolean\u001b[49m\u001b[43m(\u001b[49m\u001b[43mi\u001b[49m\u001b[43m)\u001b[49m \u001b[38;5;28;01mfor\u001b[39;00m i \u001b[38;5;129;01min\u001b[39;00m args]\n\u001b[1;32m    495\u001b[0m     bin_syms \u001b[38;5;241m=\u001b[39m \u001b[38;5;28mset\u001b[39m()\u001b[38;5;241m.\u001b[39munion(\u001b[38;5;241m*\u001b[39m[i\u001b[38;5;241m.\u001b[39mbinary_symbols \u001b[38;5;28;01mfor\u001b[39;00m i \u001b[38;5;129;01min\u001b[39;00m args])\n\u001b[1;32m    496\u001b[0m     rel \u001b[38;5;241m=\u001b[39m \u001b[38;5;28mset\u001b[39m()\u001b[38;5;241m.\u001b[39munion(\u001b[38;5;241m*\u001b[39m[i\u001b[38;5;241m.\u001b[39matoms(Relational) \u001b[38;5;28;01mfor\u001b[39;00m i \u001b[38;5;129;01min\u001b[39;00m args])\n",
      "File \u001b[0;32m~/Library/Python/3.9/lib/python/site-packages/sympy/logic/boolalg.py:61\u001b[0m, in \u001b[0;36mas_Boolean\u001b[0;34m(e)\u001b[0m\n\u001b[1;32m     59\u001b[0m \u001b[38;5;28;01mif\u001b[39;00m \u001b[38;5;28misinstance\u001b[39m(e, Boolean):\n\u001b[1;32m     60\u001b[0m     \u001b[38;5;28;01mreturn\u001b[39;00m e\n\u001b[0;32m---> 61\u001b[0m \u001b[38;5;28;01mraise\u001b[39;00m \u001b[38;5;167;01mTypeError\u001b[39;00m(\u001b[38;5;124m'\u001b[39m\u001b[38;5;124mexpecting bool or Boolean, not `\u001b[39m\u001b[38;5;132;01m%s\u001b[39;00m\u001b[38;5;124m`.\u001b[39m\u001b[38;5;124m'\u001b[39m \u001b[38;5;241m%\u001b[39m e)\n",
      "\u001b[0;31mTypeError\u001b[0m: expecting bool or Boolean, not `{p, q, p | q, q | ~p}`."
     ]
    }
   ],
   "source": [
    "belief_base.check_entailment(formula=And(p,q), belief_base=belief_base.beliefs)"
   ]
  },
  {
   "cell_type": "code",
   "execution_count": null,
   "metadata": {},
   "outputs": [],
   "source": []
  }
 ],
 "metadata": {
  "kernelspec": {
   "display_name": "Python 3",
   "language": "python",
   "name": "python3"
  },
  "language_info": {
   "codemirror_mode": {
    "name": "ipython",
    "version": 3
   },
   "file_extension": ".py",
   "mimetype": "text/x-python",
   "name": "python",
   "nbconvert_exporter": "python",
   "pygments_lexer": "ipython3",
   "version": "3.9.6"
  }
 },
 "nbformat": 4,
 "nbformat_minor": 2
}
