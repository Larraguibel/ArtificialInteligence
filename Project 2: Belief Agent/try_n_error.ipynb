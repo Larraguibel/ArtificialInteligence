{
 "cells": [
  {
   "cell_type": "code",
   "execution_count": 120,
   "metadata": {},
   "outputs": [],
   "source": [
    "from sympy.logic.boolalg import And, Or, Not, Implies, Equivalent\n",
    "from sympy import symbols, bool_map\n",
    "from sympy.logic.inference import satisfiable\n",
    "from itertools import combinations\n",
    "from belief_agent import BeliefBase\n",
    "from math import factorial"
   ]
  },
  {
   "cell_type": "markdown",
   "metadata": {},
   "source": [
    "**KB: Robert does well in the exam if and only if he is prepared or lucky.**\n",
    "Robert does not do well the exam.\n",
    "\n",
    "**Question: KB |= φ?**  **(KB entails phi)**\n",
    "\n",
    "1. (-r $\\vee$ p $\\vee$ s) $\\wedge$ (p $\\wedge$ r) $\\wedge$ (s $\\wedge$ r) $\\wedge$ $\\neg$ r, formalisation of KB as CNF.\n",
    "\n",
    "2.(-r $\\vee$ p $\\vee$ s) $\\wedge$ (p $\\wedge$ r) $\\wedge$ (s $\\wedge$ r) $\\wedge$ r $\\wedge$ p, CNF for contradiction.\n",
    "\n",
    "3. clauses:= (-r $\\vee$ p $\\vee$ s), (p $\\wedge$ r), (s $\\wedge$ r), r, p.\n",
    "\n",
    "4. clauses:=clauses U {r} from resolving (¬p $\\vee$ r) with p.\n",
    "\n",
    "5. clauses:=clauses U {1} from resolving r with $\\neg$ r.\n",
    "\n",
    "6. Result: empty clause, so KB |= φ."
   ]
  },
  {
   "cell_type": "code",
   "execution_count": 132,
   "metadata": {},
   "outputs": [
    {
     "name": "stdout",
     "output_type": "stream",
     "text": [
      "Belief Base: {q, p, q | ~p}\n"
     ]
    }
   ],
   "source": [
    "belief_base = BeliefBase('q p')\n",
    "symb = belief_base.symbols\n",
    "q, p = symb\n",
    "\n",
    "belief_base.expand(p)\n",
    "belief_base.expand(q)\n",
    "belief_base.expand(Implies(p, q))\n",
    "print(\"Belief Base:\", belief_base)"
   ]
  },
  {
   "cell_type": "code",
   "execution_count": 133,
   "metadata": {},
   "outputs": [
    {
     "data": {
      "text/plain": [
       "{(True, True): 0, (True, False): 1, (False, True): 2, (False, False): 3}"
      ]
     },
     "execution_count": 133,
     "metadata": {},
     "output_type": "execute_result"
    }
   ],
   "source": [
    "belief_base.priorities"
   ]
  },
  {
   "cell_type": "code",
   "execution_count": 148,
   "metadata": {},
   "outputs": [],
   "source": [
    "satisf = satisfiable(belief_base.to_CNF())\n",
    "key = tuple([satisf[belief_base.symbols[i]] for i in range(len(belief_base.symbols))])"
   ]
  },
  {
   "cell_type": "code",
   "execution_count": 149,
   "metadata": {},
   "outputs": [
    {
     "ename": "TypeError",
     "evalue": "'dict' object is not callable",
     "output_type": "error",
     "traceback": [
      "\u001b[0;31m---------------------------------------------------------------------------\u001b[0m",
      "\u001b[0;31mTypeError\u001b[0m                                 Traceback (most recent call last)",
      "Cell \u001b[0;32mIn[149], line 1\u001b[0m\n\u001b[0;32m----> 1\u001b[0m \u001b[43mbelief_base\u001b[49m\u001b[38;5;241;43m.\u001b[39;49m\u001b[43mpriorities\u001b[49m\u001b[43m(\u001b[49m\u001b[43mkey\u001b[49m\u001b[43m)\u001b[49m\n",
      "\u001b[0;31mTypeError\u001b[0m: 'dict' object is not callable"
     ]
    }
   ],
   "source": [
    "belief_base.priorities(key)"
   ]
  },
  {
   "cell_type": "code",
   "execution_count": null,
   "metadata": {},
   "outputs": [],
   "source": []
  }
 ],
 "metadata": {
  "kernelspec": {
   "display_name": "Python 3",
   "language": "python",
   "name": "python3"
  },
  "language_info": {
   "codemirror_mode": {
    "name": "ipython",
    "version": 3
   },
   "file_extension": ".py",
   "mimetype": "text/x-python",
   "name": "python",
   "nbconvert_exporter": "python",
   "pygments_lexer": "ipython3",
   "version": "3.9.6"
  }
 },
 "nbformat": 4,
 "nbformat_minor": 2
}
