{
 "cells": [
  {
   "cell_type": "code",
   "execution_count": 1,
   "metadata": {},
   "outputs": [],
   "source": [
    "from sympy.logic.boolalg import And, Or, Not, Implies, Equivalent\n",
    "from sympy import symbols, bool_map\n",
    "from sympy.logic.inference import satisfiable\n",
    "from itertools import combinations\n",
    "from belief_agent import BeliefBase\n",
    "from math import factorial"
   ]
  },
  {
   "cell_type": "markdown",
   "metadata": {},
   "source": [
    "**KB: Robert does well in the exam if and only if he is prepared or lucky.**\n",
    "Robert does not do well the exam.\n",
    "\n",
    "**Question: KB |= φ?**  **(KB entails phi)**\n",
    "\n",
    "1. (-r $\\vee$ p $\\vee$ s) $\\wedge$ (p $\\wedge$ r) $\\wedge$ (s $\\wedge$ r) $\\wedge$ $\\neg$ r, formalisation of KB as CNF.\n",
    "\n",
    "2.(-r $\\vee$ p $\\vee$ s) $\\wedge$ (p $\\wedge$ r) $\\wedge$ (s $\\wedge$ r) $\\wedge$ r $\\wedge$ p, CNF for contradiction.\n",
    "\n",
    "3. clauses:= (-r $\\vee$ p $\\vee$ s), (p $\\wedge$ r), (s $\\wedge$ r), r, p.\n",
    "\n",
    "4. clauses:=clauses U {r} from resolving (¬p $\\vee$ r) with p.\n",
    "\n",
    "5. clauses:=clauses U {1} from resolving r with $\\neg$ r.\n",
    "\n",
    "6. Result: empty clause, so KB |= φ."
   ]
  },
  {
   "cell_type": "code",
   "execution_count": 2,
   "metadata": {},
   "outputs": [
    {
     "name": "stdout",
     "output_type": "stream",
     "text": [
      "Belief Base: <belief_agent.BeliefBase object at 0x11533ccd0>\n"
     ]
    }
   ],
   "source": [
    "belief_base = BeliefBase('q p')\n",
    "symb = belief_base.symbols\n",
    "q, p = symb\n",
    "\n",
    "belief_base.expand(p, 1)\n",
    "belief_base.expand(q, 2)\n",
    "belief_base.expand(Implies(p, q), 3)\n",
    "print(\"Belief Base:\", belief_base)"
   ]
  },
  {
   "cell_type": "code",
   "execution_count": 3,
   "metadata": {},
   "outputs": [
    {
     "name": "stdout",
     "output_type": "stream",
     "text": [
      "\n",
      "Sorted beliefs: [(q | ~p, 3), (q, 2), (p, 1)]\n",
      "q | ~p False\n",
      "q True\n",
      "q\n",
      "p False\n"
     ]
    }
   ],
   "source": [
    "belief_base.contract(q)"
   ]
  },
  {
   "cell_type": "code",
   "execution_count": 148,
   "metadata": {},
   "outputs": [],
   "source": [
    "satisf = satisfiable(belief_base.to_CNF())\n",
    "key = tuple([satisf[belief_base.symbols[i]] for i in range(len(belief_base.symbols))])"
   ]
  },
  {
   "cell_type": "code",
   "execution_count": 149,
   "metadata": {},
   "outputs": [
    {
     "ename": "TypeError",
     "evalue": "'dict' object is not callable",
     "output_type": "error",
     "traceback": [
      "\u001b[0;31m---------------------------------------------------------------------------\u001b[0m",
      "\u001b[0;31mTypeError\u001b[0m                                 Traceback (most recent call last)",
      "Cell \u001b[0;32mIn[149], line 1\u001b[0m\n\u001b[0;32m----> 1\u001b[0m \u001b[43mbelief_base\u001b[49m\u001b[38;5;241;43m.\u001b[39;49m\u001b[43mpriorities\u001b[49m\u001b[43m(\u001b[49m\u001b[43mkey\u001b[49m\u001b[43m)\u001b[49m\n",
      "\u001b[0;31mTypeError\u001b[0m: 'dict' object is not callable"
     ]
    }
   ],
   "source": [
    "belief_base.priorities(key)"
   ]
  },
  {
   "cell_type": "code",
   "execution_count": 53,
   "metadata": {},
   "outputs": [
    {
     "name": "stdout",
     "output_type": "stream",
     "text": [
      "{q | ~p, q, p}\n",
      "\n",
      " Contraction:\n",
      "\n",
      "is_belief_entailed == True?? False\n",
      "belief: q | ~p   is belief entailed?: {p: False, q: False}\n",
      "Belief to be removed: q | ~p\n",
      "\n",
      "New beliefbalse:\n",
      "{p}\n"
     ]
    }
   ],
   "source": [
    "from sympy.logic.boolalg import And, Or, Not, Implies, Equivalent, to_cnf\n",
    "from sympy import symbols\n",
    "from sympy.logic.inference import satisfiable\n",
    "from utils import generate_combinations\n",
    "\n",
    "class BeliefBase:\n",
    "    def __init__(self, atomic_symbols: str):\n",
    "        self.beliefs = set()\n",
    "        self.beliefs_priorities = set()\n",
    "        self.symbols = symbols(atomic_symbols)\n",
    "        self.priorities = {}\n",
    "\n",
    "    def expand(self, belief, priority):\n",
    "        cnf_belief = to_cnf(belief)\n",
    "        self.beliefs.add((cnf_belief))\n",
    "        self.beliefs_priorities.add((cnf_belief, priority))\n",
    "        self.priorities[belief] = priority\n",
    "\n",
    "    def remove(self, belief, belief_set=None):\n",
    "        cnf_belief = to_cnf(belief)\n",
    "        if belief_set is None:\n",
    "            if cnf_belief in self.beliefs:\n",
    "                self.beliefs.remove(cnf_belief)\n",
    "        else:\n",
    "            if cnf_belief in belief_set:\n",
    "                belief_set.remove(cnf_belief)\n",
    "\n",
    "    def contract(self, extract_belief):\n",
    "\n",
    "        if extract_belief in self.beliefs:\n",
    "            # We remove the belief both from our priority list and our belief set\n",
    "            self.remove(extract_belief)\n",
    "            self.beliefs_priorities.remove((extract_belief, self.priorities[extract_belief]))\n",
    "\n",
    "            sorted_beliefs = sorted(self.beliefs_priorities, key=lambda x: (-x[1]))\n",
    "            while self.check_entailment(extract_belief):\n",
    "                for (belief, pri) in sorted_beliefs:\n",
    "                    belief_not_entailed = satisfiable(And(Not(extract_belief), belief))\n",
    "                    print(\"\\nis_belief_entailed == True??\", belief_not_entailed == True)\n",
    "                    print(\"belief:\",belief, \"  is belief entailed?:\", belief_not_entailed)\n",
    "                    if belief_not_entailed != False:\n",
    "                        print(\"Belief to be removed:\", belief)\n",
    "                        self.remove(belief)\n",
    "                        sorted_beliefs.remove((to_cnf(belief), pri))\n",
    "                        break\n",
    "\n",
    "\n",
    "    def revise(self, belief):\n",
    "        # Levi's identity\n",
    "        self.contract(Not(belief))\n",
    "        self.expand(belief)\n",
    "\n",
    "    def check_entailment(self, formula, belief_base=None):\n",
    "        if belief_base is None:\n",
    "            cnf_formula = to_cnf(formula)\n",
    "            belief_base_cnf = to_cnf(self.beliefs)\n",
    "            new_set = And(*belief_base_cnf, Not(cnf_formula))\n",
    "            return not satisfiable(new_set)\n",
    "        else:\n",
    "            cnf_formula = to_cnf(formula)\n",
    "            belief_base_cnf = to_cnf(belief_base)\n",
    "            new_set = And(belief_base_cnf, Not(cnf_formula))\n",
    "            return not satisfiable(new_set)         \n",
    "\n",
    "# Test\n",
    "if __name__ == \"__main__\":\n",
    "    belief_base = BeliefBase('p q')  \n",
    "    p, q = belief_base.symbols\n",
    "    # Expand belief base\n",
    "    belief_base.expand(p, 1)\n",
    "    belief_base.expand(q, 2)\n",
    "    belief_base.expand(Implies(p, q), 3)\n",
    "    print(belief_base.beliefs)\n",
    "    \n",
    "    print(\"\\n Contraction:\")\n",
    "    belief_base.contract(q)\n",
    "    print(\"\\nNew beliefbalse:\")\n",
    "    print(belief_base.beliefs) \n",
    "\n",
    "    \"\"\" print(\"Belief Base:\", belief_base)\n",
    "    print(\"Belief Base CNF:\", belief_base.to_CNF())\n",
    "\n",
    "    # Check entailment of a formula\n",
    "    formula = Implies(A, C)\n",
    "    print(\"Entailment of {}: {}\".format(formula, belief_base.check_entailment(formula))) \"\"\""
   ]
  },
  {
   "cell_type": "code",
   "execution_count": 30,
   "metadata": {},
   "outputs": [
    {
     "name": "stdout",
     "output_type": "stream",
     "text": [
      "{(q, 2), (q | ~p, 3), (p, 1)}\n",
      "{p: 1, q: 2, Implies(p, q): 3}\n"
     ]
    }
   ],
   "source": [
    "print(belief_base.beliefs_priorities)\n",
    "print(belief_base.priorities)"
   ]
  },
  {
   "cell_type": "code",
   "execution_count": 13,
   "metadata": {},
   "outputs": [],
   "source": [
    "lista = sorted(belief_base.beliefs_priorities, key=lambda x: (-x[1]))"
   ]
  },
  {
   "cell_type": "code",
   "execution_count": 14,
   "metadata": {},
   "outputs": [
    {
     "data": {
      "text/plain": [
       "[(B | C, 5), (C, 5), (C, 3), (~B, 2), (B, 2), (A, 1)]"
      ]
     },
     "execution_count": 14,
     "metadata": {},
     "output_type": "execute_result"
    }
   ],
   "source": [
    "lista"
   ]
  },
  {
   "cell_type": "code",
   "execution_count": 16,
   "metadata": {},
   "outputs": [],
   "source": [
    "lista.remove((B | C, lista[0][1]))"
   ]
  },
  {
   "cell_type": "code",
   "execution_count": 17,
   "metadata": {},
   "outputs": [
    {
     "data": {
      "text/plain": [
       "[(C, 5), (C, 3), (~B, 2), (B, 2), (A, 1)]"
      ]
     },
     "execution_count": 17,
     "metadata": {},
     "output_type": "execute_result"
    }
   ],
   "source": [
    "lista"
   ]
  },
  {
   "cell_type": "code",
   "execution_count": null,
   "metadata": {},
   "outputs": [],
   "source": []
  }
 ],
 "metadata": {
  "kernelspec": {
   "display_name": "Python 3",
   "language": "python",
   "name": "python3"
  },
  "language_info": {
   "codemirror_mode": {
    "name": "ipython",
    "version": 3
   },
   "file_extension": ".py",
   "mimetype": "text/x-python",
   "name": "python",
   "nbconvert_exporter": "python",
   "pygments_lexer": "ipython3",
   "version": "3.9.6"
  }
 },
 "nbformat": 4,
 "nbformat_minor": 2
}
