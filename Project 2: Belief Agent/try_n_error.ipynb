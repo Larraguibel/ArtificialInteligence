{
 "cells": [
  {
   "cell_type": "code",
   "execution_count": 2,
   "metadata": {},
   "outputs": [],
   "source": [
    "from sympy.logic.boolalg import And, Or, Not, Implies, Equivalent\n",
    "from sympy import symbols, bool_map\n",
    "from sympy.logic.inference import satisfiable\n",
    "from itertools import combinations\n",
    "from belief_agent import BeliefBase\n",
    "from utils import generate_subsets"
   ]
  },
  {
   "cell_type": "markdown",
   "metadata": {},
   "source": [
    "**KB: Robert does well in the exam if and only if he is prepared or lucky.**\n",
    "Robert does not do well the exam.\n",
    "\n",
    "**Question: KB |= φ?**  **(KB entails phi)**\n",
    "\n",
    "1. (-r $\\vee$ p $\\vee$ s) $\\wedge$ (p $\\wedge$ r) $\\wedge$ (s $\\wedge$ r) $\\wedge$ $\\neg$ r, formalisation of KB as CNF.\n",
    "\n",
    "2.(-r $\\vee$ p $\\vee$ s) $\\wedge$ (p $\\wedge$ r) $\\wedge$ (s $\\wedge$ r) $\\wedge$ r $\\wedge$ p, CNF for contradiction.\n",
    "\n",
    "3. clauses:= (-r $\\vee$ p $\\vee$ s), (p $\\wedge$ r), (s $\\wedge$ r), r, p.\n",
    "\n",
    "4. clauses:=clauses U {r} from resolving (¬p $\\vee$ r) with p.\n",
    "\n",
    "5. clauses:=clauses U {1} from resolving r with $\\neg$ r.\n",
    "\n",
    "6. Result: empty clause, so KB |= φ."
   ]
  },
  {
   "cell_type": "code",
   "execution_count": 3,
   "metadata": {},
   "outputs": [
    {
     "name": "stdout",
     "output_type": "stream",
     "text": [
      "Belief Base: <belief_agent.BeliefBase object at 0x117f39730>\n"
     ]
    }
   ],
   "source": [
    "belief_base = BeliefBase('q p')\n",
    "symb = belief_base.symbols\n",
    "q, p = symb\n",
    "\n",
    "belief_base.expand(p, 1)\n",
    "belief_base.expand(q, 2)\n",
    "belief_base.expand(Implies(p, q), 3)\n",
    "print(\"Belief Base:\", belief_base)"
   ]
  },
  {
   "cell_type": "code",
   "execution_count": 4,
   "metadata": {},
   "outputs": [
    {
     "ename": "ImportError",
     "evalue": "cannot import name 'generate_combinations' from 'utils' (/Users/terriblepollo/Desktop/Exchange Courses/Intro to AI/ArtificialInteligence/Project 2: Belief Agent/utils.py)",
     "output_type": "error",
     "traceback": [
      "\u001b[0;31m---------------------------------------------------------------------------\u001b[0m",
      "\u001b[0;31mImportError\u001b[0m                               Traceback (most recent call last)",
      "Cell \u001b[0;32mIn[4], line 4\u001b[0m\n\u001b[1;32m      2\u001b[0m \u001b[38;5;28;01mfrom\u001b[39;00m \u001b[38;5;21;01msympy\u001b[39;00m \u001b[38;5;28;01mimport\u001b[39;00m symbols\n\u001b[1;32m      3\u001b[0m \u001b[38;5;28;01mfrom\u001b[39;00m \u001b[38;5;21;01msympy\u001b[39;00m\u001b[38;5;21;01m.\u001b[39;00m\u001b[38;5;21;01mlogic\u001b[39;00m\u001b[38;5;21;01m.\u001b[39;00m\u001b[38;5;21;01minference\u001b[39;00m \u001b[38;5;28;01mimport\u001b[39;00m satisfiable\n\u001b[0;32m----> 4\u001b[0m \u001b[38;5;28;01mfrom\u001b[39;00m \u001b[38;5;21;01mutils\u001b[39;00m \u001b[38;5;28;01mimport\u001b[39;00m generate_combinations\n\u001b[1;32m      6\u001b[0m \u001b[38;5;28;01mclass\u001b[39;00m \u001b[38;5;21;01mBeliefBase\u001b[39;00m:\n\u001b[1;32m      7\u001b[0m     \u001b[38;5;28;01mdef\u001b[39;00m \u001b[38;5;21m__init__\u001b[39m(\u001b[38;5;28mself\u001b[39m, atomic_symbols: \u001b[38;5;28mstr\u001b[39m):\n",
      "\u001b[0;31mImportError\u001b[0m: cannot import name 'generate_combinations' from 'utils' (/Users/terriblepollo/Desktop/Exchange Courses/Intro to AI/ArtificialInteligence/Project 2: Belief Agent/utils.py)"
     ]
    }
   ],
   "source": [
    "from sympy.logic.boolalg import And, Or, Not, Implies, Equivalent, to_cnf\n",
    "from sympy import symbols\n",
    "from sympy.logic.inference import satisfiable\n",
    "from utils import generate_combinations\n",
    "\n",
    "class BeliefBase:\n",
    "    def __init__(self, atomic_symbols: str):\n",
    "        self.beliefs = set()\n",
    "        self.beliefs_priorities = set()\n",
    "        self.symbols = symbols(atomic_symbols)\n",
    "        self.priorities = {}\n",
    "\n",
    "    def expand(self, belief, priority):\n",
    "        cnf_belief = to_cnf(belief)\n",
    "        self.beliefs.add((cnf_belief))\n",
    "        self.beliefs_priorities.add((cnf_belief, priority))\n",
    "        self.priorities[belief] = priority\n",
    "\n",
    "    def remove(self, belief, belief_set=None):\n",
    "        cnf_belief = to_cnf(belief)\n",
    "        if belief_set is None:\n",
    "            if cnf_belief in self.beliefs:\n",
    "                self.beliefs.remove(cnf_belief)\n",
    "        else:\n",
    "            if cnf_belief in belief_set:\n",
    "                belief_set.remove(cnf_belief)\n",
    "\n",
    "    def contract(self, extract_belief):\n",
    "        sorted_beliefs = sorted(self.beliefs_priorities, key=lambda x: (-x[1]))\n",
    "        while self.check_entailment(extract_belief):\n",
    "            for (belief, pri) in sorted_beliefs:\n",
    "                print(\"set: \", set([belief]))\n",
    "                belief_is_entailed = self.check_entailment(formula=extract_belief, belief_base=belief)\n",
    "                print(\"belief_is_entailed:\", belief_is_entailed)\n",
    "                if belief_is_entailed == True:\n",
    "                    print(\"belief set before removal:\", self.beliefs)\n",
    "                    self.remove(belief)\n",
    "                    sorted_beliefs.remove((to_cnf(belief), pri))\n",
    "                    print(\"belief set after removal:\", self.beliefs, \"\\n\")\n",
    "                    break\n",
    "\n",
    "    def revise(self, belief):\n",
    "        # Levi's identity\n",
    "        self.contract(Not(belief))\n",
    "        self.expand(belief)\n",
    "\n",
    "    def check_entailment(self, formula, belief_base=None):\n",
    "        if belief_base is None:\n",
    "            cnf_formula = to_cnf(formula)\n",
    "            belief_base_cnf = to_cnf(self.beliefs)\n",
    "            new_set = And(*belief_base_cnf, Not(cnf_formula))\n",
    "            return not satisfiable(new_set)\n",
    "        else:\n",
    "            cnf_formula = to_cnf(formula)\n",
    "            belief_base_cnf = to_cnf(belief_base)\n",
    "            new_set = And(belief_base_cnf, Not(cnf_formula))\n",
    "            return not satisfiable(new_set)         \n",
    "\n",
    "# Test\n",
    "if __name__ == \"__main__\":\n",
    "    belief_base = BeliefBase('p q')  \n",
    "    p, q = belief_base.symbols\n",
    "    # Expand belief base\n",
    "    belief_base.expand(p, 1)\n",
    "    belief_base.expand(q, 2)\n",
    "    belief_base.expand(Implies(p, q), 3)\n",
    "    belief_base.expand(Or(p, q), 4)\n",
    "    print(belief_base.beliefs)\n",
    "    \n",
    "    print(\"\\n Contraction:\")\n",
    "    belief_base.contract(q)\n",
    "    print(\"\\nNew beliefbalse:\")\n",
    "    print(belief_base.beliefs) "
   ]
  },
  {
   "cell_type": "code",
   "execution_count": 16,
   "metadata": {},
   "outputs": [
    {
     "name": "stdout",
     "output_type": "stream",
     "text": [
      "{q, ~p & ~q, q | ~p, p}\n"
     ]
    },
    {
     "data": {
      "text/plain": [
       "[(q, ~p & ~q, q | ~p, p)]"
      ]
     },
     "execution_count": 16,
     "metadata": {},
     "output_type": "execute_result"
    }
   ],
   "source": [
    "belief_base = BeliefBase('p q')  \n",
    "p, q = belief_base.symbols\n",
    "belief_base.expand(p, 1)\n",
    "belief_base.expand(q, 2)\n",
    "belief_base.expand(Implies(p, q), 3)\n",
    "belief_base.expand(And(Not(p), Not(q)), len(belief_base.beliefs))\n",
    "\n",
    "def generate_subsets(belief_base, n):\n",
    "    return list(combinations(belief_base, n))\n",
    "\n",
    "print(belief_base.beliefs)\n",
    "generate_subsets(belief_base.beliefs, 4)"
   ]
  },
  {
   "cell_type": "code",
   "execution_count": 15,
   "metadata": {},
   "outputs": [],
   "source": [
    "from itertools import product\n",
    "from math import factorial\n",
    "\n",
    "def generate_combinations(n):\n",
    "    return list(product([True, False], repeat=n))\n",
    "\n",
    "def neighbours(beliefs: set):\n",
    "    if len(beliefs) == 1:\n",
    "        return None\n",
    "\n",
    "    elif len(beliefs) > 1:\n",
    "        neigh = []\n",
    "        for clause in beliefs:\n",
    "            new_set = beliefs.copy()\n",
    "            new_set.remove(clause)\n",
    "            neigh.append(new_set)\n",
    "        return neigh\n",
    "\n",
    "def create_graph(belief_set):\n",
    "    graph = dict()\n",
    "    total_nodes_in_max_depth = factorial(len(belief_set))\n",
    "    counter = 0\n",
    "    current_set = belief_set\n",
    "    while counter <= total_nodes_in_max_depth:\n",
    "        neigh = neighbours(current_set)\n",
    "        if neigh is None:\n",
    "            counter += 1\n",
    "    \n",
    "        else:\n",
    "            graph[tuple(current_set)] = [tuple(n) for n in neigh]  # Convert sets to tuples\n",
    "            counter += 1\n",
    "            current_set = neigh[0]  # Explore all neighbors\n",
    "    print(f\"Out of loop after {counter} iterations\")\n",
    "    return graph\n",
    "\n",
    "\n",
    "\n"
   ]
  },
  {
   "cell_type": "code",
   "execution_count": 16,
   "metadata": {},
   "outputs": [
    {
     "name": "stdout",
     "output_type": "stream",
     "text": [
      "Out of loop after 7 iterations\n"
     ]
    },
    {
     "data": {
      "text/plain": [
       "{(q | ~p, p, q): [(p, q), (q | ~p, q), (q | ~p, p)], (p, q): [(q,), (p,)]}"
      ]
     },
     "execution_count": 16,
     "metadata": {},
     "output_type": "execute_result"
    }
   ],
   "source": [
    "create_graph(belief_base.beliefs)"
   ]
  },
  {
   "cell_type": "code",
   "execution_count": null,
   "metadata": {},
   "outputs": [],
   "source": []
  }
 ],
 "metadata": {
  "kernelspec": {
   "display_name": "Python 3",
   "language": "python",
   "name": "python3"
  },
  "language_info": {
   "codemirror_mode": {
    "name": "ipython",
    "version": 3
   },
   "file_extension": ".py",
   "mimetype": "text/x-python",
   "name": "python",
   "nbconvert_exporter": "python",
   "pygments_lexer": "ipython3",
   "version": "3.9.6"
  }
 },
 "nbformat": 4,
 "nbformat_minor": 2
}
