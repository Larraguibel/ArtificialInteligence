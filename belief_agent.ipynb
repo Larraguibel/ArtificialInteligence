{
 "cells": [
  {
   "cell_type": "code",
   "execution_count": 16,
   "metadata": {},
   "outputs": [],
   "source": [
    "from sympy.logic.boolalg import And, Or, Not\n",
    "from sympy import symbols"
   ]
  },
  {
   "cell_type": "code",
   "execution_count": 31,
   "metadata": {},
   "outputs": [],
   "source": [
    "class BeliefBase:\n",
    "    def __init__(self):\n",
    "        self.beliefs = set()\n",
    "\n",
    "    def add_belief(self, belief):\n",
    "        \"\"\"\n",
    "        Add a belief to the belief base.\n",
    "        \"\"\"\n",
    "        self.beliefs.add(belief)\n",
    "\n",
    "    def remove_belief(self, belief):\n",
    "        \"\"\"\n",
    "        Remove a belief from the belief base.\n",
    "        \"\"\"\n",
    "        self.beliefs.remove(belief)\n",
    "\n",
    "    def update_belief(self, old_belief, new_belief):\n",
    "        \"\"\"\n",
    "        Update a belief in the belief base.\n",
    "        \"\"\"\n",
    "        self.remove_belief(old_belief)\n",
    "        self.add_belief(new_belief)\n",
    "\n",
    "    def clear(self):\n",
    "        \"\"\"\n",
    "        Clear all beliefs from the belief base.\n",
    "        \"\"\"\n",
    "        self.beliefs.clear()\n",
    "\n",
    "    def __str__(self):\n",
    "        \"\"\"\n",
    "        Return a string representation of the belief base.\n",
    "        \"\"\"\n",
    "        return \"{\" + \", \".join(map(str, self.beliefs)) + \"}\""
   ]
  },
  {
   "cell_type": "code",
   "execution_count": 32,
   "metadata": {},
   "outputs": [
    {
     "name": "stdout",
     "output_type": "stream",
     "text": [
      "Belief Base: {B | C, A & B}\n"
     ]
    }
   ],
   "source": [
    "# Example usage\n",
    "belief_base = BeliefBase()\n",
    "A, B, C = symbols('A B C')\n",
    "belief_base.add_belief(And(A, B))\n",
    "belief_base.add_belief(Or(B, C))\n",
    "print(\"Belief Base:\", belief_base)"
   ]
  },
  {
   "cell_type": "code",
   "execution_count": null,
   "metadata": {},
   "outputs": [],
   "source": []
  }
 ],
 "metadata": {
  "kernelspec": {
   "display_name": "Python 3",
   "language": "python",
   "name": "python3"
  },
  "language_info": {
   "codemirror_mode": {
    "name": "ipython",
    "version": 3
   },
   "file_extension": ".py",
   "mimetype": "text/x-python",
   "name": "python",
   "nbconvert_exporter": "python",
   "pygments_lexer": "ipython3",
   "version": "3.9.6"
  }
 },
 "nbformat": 4,
 "nbformat_minor": 2
}
